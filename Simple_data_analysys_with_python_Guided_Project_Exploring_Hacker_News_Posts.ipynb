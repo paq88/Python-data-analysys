{
  "cells": [
    {
      "cell_type": "markdown",
      "source": [
        "#### Guided Project Exploring Hacker News Posts\n"
      ],
      "metadata": {
        "id": "0CFsv2YiqMcZ"
      },
      "id": "0CFsv2YiqMcZ"
    },
    {
      "cell_type": "markdown",
      "id": "5343e8ea-692c-4742-b1a9-9c21a28ef142",
      "metadata": {
        "id": "5343e8ea-692c-4742-b1a9-9c21a28ef142"
      },
      "source": [
        "[Oryginal Dataset](https://www.kaggle.com/datasets/hacker-news/hacker-news-posts)\n",
        "[Download data for this project](https://www.kaggle.com/datasets/hacker-news/hacker-news-posts)"
      ]
    },
    {
      "cell_type": "code",
      "execution_count": 21,
      "id": "c9087a99-7859-487a-8b5e-b0ecf983c347",
      "metadata": {
        "colab": {
          "base_uri": "https://localhost:8080/"
        },
        "id": "c9087a99-7859-487a-8b5e-b0ecf983c347",
        "outputId": "f75b8aff-a8bf-4728-fb59-3de6636f37fe"
      },
      "outputs": [
        {
          "output_type": "stream",
          "name": "stdout",
          "text": [
            "['id', 'title', 'url', 'num_points', 'num_comments', 'author', 'created_at']\n",
            "['12224879', 'Interactive Dynamic Video', 'http://www.interactivedynamicvideo.com/', '386', '52', 'ne0phyte', '8/4/2016 11:52']\n"
          ]
        }
      ],
      "source": [
        "#Data read\n",
        "\n",
        "from csv import reader\n",
        "import requests\n",
        "URL = \"https://dq-content.s3.amazonaws.com/356/hacker_news.csv\"\n",
        "response = requests.get(URL)\n",
        "\n",
        "open(\"hacker_news.csv\", \"wb\").write(response.content)\n",
        "from csv import reader\n",
        "opened_file=open('hacker_news.csv')\n",
        "read_file=reader(opened_file)\n",
        "data=list(read_file)\n",
        "data_header=data[0]\n",
        "data=data[1:]\n",
        "print(data_header)\n",
        "print(data[0])"
      ]
    },
    {
      "cell_type": "markdown",
      "id": "d11e1d2e-ee74-4c27-a75b-f748500598ec",
      "metadata": {
        "id": "d11e1d2e-ee74-4c27-a75b-f748500598ec"
      },
      "source": [
        "Data explanation\n",
        "|variable|meaning|\n",
        "| --- | --- |\n",
        "|id| the unique identifier from Hacker News for the post|\n",
        "|title | the title of the post|\n",
        "|url| the URL that the posts links to, if the post has a URL|\n",
        "|num_points | the number of points the post acquired, calculated as the otal number of upvotes minus the total number of downvotes|\n",
        "|num_comments | the number of comments on the post|\n",
        "|author | the username of the person who submitted the post|\n",
        "|created_at | the date and time of the post's submission|"
      ]
    },
    {
      "cell_type": "markdown",
      "id": "d76d8148-ca3e-4d84-9669-ff45c907f07f",
      "metadata": {
        "id": "d76d8148-ca3e-4d84-9669-ff45c907f07f"
      },
      "source": [
        "We're specifically interested in posts with titles that begin with either Ask HN or Show HN. Users submit Ask HN posts to ask the Hacker News community a specific question. Below are a few examples:"
      ]
    },
    {
      "cell_type": "code",
      "execution_count": 22,
      "id": "c93f16eb-1faf-40b9-a332-7b902c3fdee2",
      "metadata": {
        "colab": {
          "base_uri": "https://localhost:8080/"
        },
        "id": "c93f16eb-1faf-40b9-a332-7b902c3fdee2",
        "outputId": "109d99e8-0ff3-4cbb-9ccb-ee2b61df03ab"
      },
      "outputs": [
        {
          "output_type": "stream",
          "name": "stdout",
          "text": [
            "[['12296411', 'Ask HN: How to improve my personal website?', '', '2', '6', 'ahmedbaracat', '8/16/2016 9:55'], ['10610020', 'Ask HN: Am I the only one outraged by Twitter shutting down share counts?', '', '28', '29', 'tkfx', '11/22/2015 13:43']]\n",
            "[['10627194', 'Show HN: Wio Link  ESP8266 Based Web of Things Hardware Development Platform', 'https://iot.seeed.cc', '26', '22', 'kfihihc', '11/25/2015 14:03'], ['10646440', 'Show HN: Something pointless I made', 'http://dn.ht/picklecat/', '747', '102', 'dhotson', '11/29/2015 22:46']]\n",
            "[['12224879', 'Interactive Dynamic Video', 'http://www.interactivedynamicvideo.com/', '386', '52', 'ne0phyte', '8/4/2016 11:52'], ['10975351', 'How to Use Open Source and Shut the Fuck Up at the Same Time', 'http://hueniverse.com/2016/01/26/how-to-use-open-source-and-shut-the-fuck-up-at-the-same-time/', '39', '10', 'josep2', '1/26/2016 19:30']]\n",
            "Comparison of dataset lengths to determine if above step was performed correctly\n",
            "No missing values\n"
          ]
        }
      ],
      "source": [
        "\n",
        "ask_posts = []\n",
        "show_posts = []\n",
        "other_posts = []\n",
        "for post in data:\n",
        "    title = post[1]\n",
        "    title = title.lower()\n",
        "    if title.startswith('ask hn'):\n",
        "        ask_posts.append(post)\n",
        "    elif title.startswith('show hn'):\n",
        "        show_posts.append(post)\n",
        "    else:\n",
        "        other_posts.append(post)\n",
        "#verification\n",
        "print(ask_posts[:2])\n",
        "print(show_posts[:2])\n",
        "print(other_posts[:2])\n",
        "print(\"Comparison of dataset lengths to determine if above step was performed correctly\")\n",
        "\n",
        "if len(data) == (len(ask_posts)+len(show_posts)+len(other_posts)):\n",
        "    print(\"No missing values\")\n",
        "else:\n",
        "    missing_values = len(data) - (len(ask_posts)+len(show_posts)+len(other_posts))\n",
        "    print(\"We missed \", missing_values,\" Values\")"
      ]
    },
    {
      "cell_type": "markdown",
      "id": "d1b0f5d6-6133-41b0-b259-2d2d6d30fc05",
      "metadata": {
        "id": "d1b0f5d6-6133-41b0-b259-2d2d6d30fc05"
      },
      "source": [
        "Calculating the Average Number of Comments for Ask HN and Show HN Posts"
      ]
    },
    {
      "cell_type": "code",
      "execution_count": 23,
      "id": "3c271588-a941-48b1-a840-77ca1dfd98b8",
      "metadata": {
        "colab": {
          "base_uri": "https://localhost:8080/"
        },
        "id": "3c271588-a941-48b1-a840-77ca1dfd98b8",
        "outputId": "242ebfab-479f-433e-9905-5a355507ac45"
      },
      "outputs": [
        {
          "output_type": "stream",
          "name": "stdout",
          "text": [
            "Average number of comments on ask posts is: 14.04\n",
            "Average number of comments on show posts is: 10.32\n"
          ]
        }
      ],
      "source": [
        "total_ask_comments = 0\n",
        "for a_post in ask_posts:\n",
        "    comments = int(a_post[4])\n",
        "    total_ask_comments+=comments\n",
        "\n",
        "avg_ask_comments=total_ask_comments/len(ask_posts)\n",
        "print('Average number of comments on ask posts is:',round(avg_ask_comments,2))\n",
        "total_show_comments = 0\n",
        "for s_post in show_posts:\n",
        "    comments = int(s_post[4])\n",
        "    total_show_comments+=comments\n",
        "\n",
        "avg_show_comments=total_show_comments/len(show_posts)\n",
        "print('Average number of comments on show posts is:',round(avg_show_comments,2))"
      ]
    },
    {
      "cell_type": "markdown",
      "id": "9cf3b292-2611-408d-a605-f3538965f30c",
      "metadata": {
        "id": "9cf3b292-2611-408d-a605-f3538965f30c"
      },
      "source": [
        "As we can see the average number on Ask posts is higher than on show posts this may be related to people tendency to be active on posts where they can somehow help others and at the same time prove their value"
      ]
    },
    {
      "cell_type": "markdown",
      "id": "5721f9f4-3cbe-406e-a8aa-f4ce79dd13c8",
      "metadata": {
        "id": "5721f9f4-3cbe-406e-a8aa-f4ce79dd13c8"
      },
      "source": [
        "Finding the Number of Ask Posts and Comments by Hour Created"
      ]
    },
    {
      "cell_type": "code",
      "execution_count": 24,
      "id": "69699e6b-4d6a-4363-9c2a-5e8c038bfacc",
      "metadata": {
        "colab": {
          "base_uri": "https://localhost:8080/"
        },
        "id": "69699e6b-4d6a-4363-9c2a-5e8c038bfacc",
        "outputId": "ad0d7b69-17e3-468b-c6e8-a5612240cd42"
      },
      "outputs": [
        {
          "output_type": "stream",
          "name": "stdout",
          "text": [
            "{'09': 45, '13': 85, '10': 59, '14': 107, '16': 108, '23': 68, '12': 73, '17': 100, '15': 116, '21': 109, '20': 80, '02': 58, '18': 109, '03': 54, '05': 46, '19': 110, '01': 60, '22': 71, '08': 48, '04': 47, '00': 55, '06': 44, '07': 34, '11': 58}\n",
            "{'09': 251, '13': 1253, '10': 793, '14': 1416, '16': 1814, '23': 543, '12': 687, '17': 1146, '15': 4477, '21': 1745, '20': 1722, '02': 1381, '18': 1439, '03': 421, '05': 464, '19': 1188, '01': 683, '22': 479, '08': 492, '04': 337, '00': 447, '06': 397, '07': 267, '11': 641}\n"
          ]
        }
      ],
      "source": [
        "import datetime as dt\n",
        "\n",
        "result_list = []\n",
        "\n",
        "for post in ask_posts:\n",
        "    time=post[6]\n",
        "    comments = int(post[4])\n",
        "    result_list.append([time,comments])\n",
        "counts_by_hour = {}\n",
        "comments_by_hour = {}\n",
        "for post in result_list:\n",
        "    date = post[0]\n",
        "    date = dt.datetime.strptime(date,\"%m/%d/%Y %H:%M\")\n",
        "    hour = dt.datetime.strftime(date, \"%H\")\n",
        "    comments = int(post[1])\n",
        "\n",
        "    if hour in counts_by_hour:\n",
        "        counts_by_hour[hour]+=1\n",
        "        comments_by_hour[hour]+=comments\n",
        "    elif hour not in counts_by_hour:\n",
        "        counts_by_hour[hour]=1\n",
        "        comments_by_hour[hour]=comments\n",
        "\n",
        "print(counts_by_hour)\n",
        "print(comments_by_hour)\n"
      ]
    },
    {
      "cell_type": "markdown",
      "id": "457c7d4a-71be-4c7e-aec4-d4de5b1df261",
      "metadata": {
        "id": "457c7d4a-71be-4c7e-aec4-d4de5b1df261"
      },
      "source": [
        "Calculating the Average Number of Comments for Ask HN Posts by Hour"
      ]
    },
    {
      "cell_type": "code",
      "execution_count": 25,
      "id": "5d7a0159-c917-4876-aacd-dc48a1153c53",
      "metadata": {
        "colab": {
          "base_uri": "https://localhost:8080/"
        },
        "id": "5d7a0159-c917-4876-aacd-dc48a1153c53",
        "outputId": "5b3e53e2-6a41-4784-9a02-dd8f1ebaa83c"
      },
      "outputs": [
        {
          "output_type": "stream",
          "name": "stdout",
          "text": [
            "['00', 8.127272727272727]\n",
            "['01', 11.383333333333333]\n",
            "['02', 23.810344827586206]\n",
            "['03', 7.796296296296297]\n",
            "['04', 7.170212765957447]\n",
            "['05', 10.08695652173913]\n",
            "['06', 9.022727272727273]\n",
            "['07', 7.852941176470588]\n",
            "['08', 10.25]\n",
            "['09', 5.5777777777777775]\n",
            "['10', 13.440677966101696]\n",
            "['11', 11.051724137931034]\n",
            "['12', 9.41095890410959]\n",
            "['13', 14.741176470588234]\n",
            "['14', 13.233644859813085]\n",
            "['15', 38.5948275862069]\n",
            "['16', 16.796296296296298]\n",
            "['17', 11.46]\n",
            "['18', 13.20183486238532]\n",
            "['19', 10.8]\n",
            "['20', 21.525]\n",
            "['21', 16.009174311926607]\n",
            "['22', 6.746478873239437]\n",
            "['23', 7.985294117647059]\n"
          ]
        }
      ],
      "source": [
        "avg_comments_per_hour = []\n",
        "for hour in counts_by_hour:\n",
        "    avg = comments_by_hour[hour]/counts_by_hour[hour]\n",
        "    avg_comments_per_hour.append([hour,avg])\n",
        "avg_comments_per_hour=sorted(avg_comments_per_hour)\n",
        "i=0\n",
        "for hour in avg_comments_per_hour:\n",
        "\n",
        "    print(avg_comments_per_hour[i])\n",
        "    i+=1\n"
      ]
    },
    {
      "cell_type": "markdown",
      "id": "d8f4d55e-c6ce-4a69-96b5-4fd43800ae03",
      "metadata": {
        "id": "d8f4d55e-c6ce-4a69-96b5-4fd43800ae03"
      },
      "source": [
        "Sorting and Printing Values from a List of Lists"
      ]
    },
    {
      "cell_type": "code",
      "execution_count": 26,
      "id": "db4f0043-8eac-4149-987c-15e1849b45a8",
      "metadata": {
        "colab": {
          "base_uri": "https://localhost:8080/",
          "height": 468
        },
        "id": "db4f0043-8eac-4149-987c-15e1849b45a8",
        "outputId": "5205e4cd-f630-40d5-a685-3b60c115c9c1"
      },
      "outputs": [
        {
          "output_type": "execute_result",
          "data": {
            "text/plain": [
              "Text(0, 0.5, 'Average comments')"
            ]
          },
          "metadata": {},
          "execution_count": 26
        },
        {
          "output_type": "display_data",
          "data": {
            "text/plain": [
              "<Figure size 640x480 with 1 Axes>"
            ],
            "image/png": "[encoded data removed]"
          },
          "metadata": {}
        }
      ],
      "source": [
        "import matplotlib.pyplot as plt\n",
        "keys = []\n",
        "values = []\n",
        "for element in avg_comments_per_hour:\n",
        "    keys.append(element[0])\n",
        "    values.append(element[1])\n",
        "\n",
        "plt.bar(keys,values)\n",
        "plt.xlabel(\"Hour\")\n",
        "plt.ylabel(\"Average comments\")\n",
        "\n",
        "\n"
      ]
    },
    {
      "cell_type": "code",
      "execution_count": 27,
      "id": "9eb0da70-bccc-41b9-9954-85c15b29b886",
      "metadata": {
        "colab": {
          "base_uri": "https://localhost:8080/"
        },
        "id": "9eb0da70-bccc-41b9-9954-85c15b29b886",
        "outputId": "c2d87f8a-0bc2-4005-ede6-fae56d2b6ad1"
      },
      "outputs": [
        {
          "output_type": "stream",
          "name": "stdout",
          "text": [
            "15:00 - 38.59 average comments per post\n",
            "02:00 - 23.81 average comments per post\n",
            "20:00 - 21.52 average comments per post\n",
            "16:00 - 16.8 average comments per post\n",
            "21:00 - 16.01 average comments per post\n",
            "13:00 - 14.74 average comments per post\n",
            "10:00 - 13.44 average comments per post\n",
            "14:00 - 13.23 average comments per post\n",
            "18:00 - 13.2 average comments per post\n",
            "17:00 - 11.46 average comments per post\n",
            "01:00 - 11.38 average comments per post\n",
            "11:00 - 11.05 average comments per post\n",
            "19:00 - 10.8 average comments per post\n",
            "08:00 - 10.25 average comments per post\n",
            "05:00 - 10.09 average comments per post\n",
            "12:00 - 9.41 average comments per post\n",
            "06:00 - 9.02 average comments per post\n",
            "00:00 - 8.13 average comments per post\n",
            "23:00 - 7.99 average comments per post\n",
            "07:00 - 7.85 average comments per post\n",
            "03:00 - 7.8 average comments per post\n",
            "04:00 - 7.17 average comments per post\n",
            "22:00 - 6.75 average comments per post\n",
            "09:00 - 5.58 average comments per post\n"
          ]
        }
      ],
      "source": [
        "swap_avg_per_hour = []\n",
        "for row in avg_comments_per_hour:\n",
        "    swap_avg_per_hour.append([row[1],row[0]])\n",
        "\n",
        "swap_avg_per_hour = sorted(swap_avg_per_hour,reverse = True)\n",
        "\n",
        "format = \"{hour}:00 - {number} average comments per post\"\n",
        "formated_avg_per_hour = []\n",
        "for row in swap_avg_per_hour:\n",
        "    string=format.format(hour=row[1],number=round(row[0],2))\n",
        "    formated_avg_per_hour.append(string)\n",
        "    print(string)\n"
      ]
    }
  ],
  "metadata": {
    "kernelspec": {
      "display_name": "Python 3 (ipykernel)",
      "language": "python",
      "name": "python3"
    },
    "language_info": {
      "codemirror_mode": {
        "name": "ipython",
        "version": 3
      },
      "file_extension": ".py",
      "mimetype": "text/x-python",
      "name": "python",
      "nbconvert_exporter": "python",
      "pygments_lexer": "ipython3",
      "version": "3.11.6"
    },
    "colab": {
      "provenance": []
    }
  },
  "nbformat": 4,
  "nbformat_minor": 5
}